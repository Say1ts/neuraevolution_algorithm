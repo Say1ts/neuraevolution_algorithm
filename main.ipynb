{
 "cells": [
  {
   "cell_type": "markdown",
   "id": "3b3e25ee",
   "metadata": {},
   "source": [
    "# Нейроэволюционный алгоритм"
   ]
  },
  {
   "cell_type": "markdown",
   "id": "14ee872a",
   "metadata": {},
   "source": [
    "## Загружаем и подготавливаем данные для работы\n",
    "\n",
    "### Строки, не несущие информацию были удалены"
   ]
  },
  {
   "cell_type": "code",
   "execution_count": null,
   "id": "5c7fb14c",
   "metadata": {
    "scrolled": true
   },
   "outputs": [],
   "source": [
    "import datatable as dt\n",
    "data = dt.fread('cancer1.dt')\n",
    "del data[0:7,:]"
   ]
  },
  {
   "cell_type": "markdown",
   "id": "50dc5a75",
   "metadata": {},
   "source": [
    "## Преробразуем данные в формат pandas.DataFrame "
   ]
  },
  {
   "cell_type": "code",
   "execution_count": null,
   "id": "b2571a4c",
   "metadata": {},
   "outputs": [],
   "source": [
    "import pandas as pd\n",
    "df = pd.DataFrame(data.to_pandas())\n",
    "df"
   ]
  },
  {
   "cell_type": "markdown",
   "id": "79aa83b2",
   "metadata": {},
   "source": [
    "## Разделяем данные на входные и требуемые выходные значения"
   ]
  },
  {
   "cell_type": "code",
   "execution_count": null,
   "id": "94d5248c",
   "metadata": {},
   "outputs": [],
   "source": [
    "outputs = df[['C9','C10']] \\\n",
    "                    .iloc[:,0]\\\n",
    "                    .astype('int64')\n",
    "\n",
    "outputs"
   ]
  },
  {
   "cell_type": "code",
   "execution_count": null,
   "id": "fc8fbc01",
   "metadata": {
    "scrolled": true
   },
   "outputs": [],
   "source": [
    "inputs = df.iloc[:, 0:9].copy().astype('float64')\n",
    "inputs"
   ]
  },
  {
   "cell_type": "markdown",
   "id": "7b37efb9",
   "metadata": {},
   "source": [
    "## Разбиваем выборку на тренировочную и тестовую"
   ]
  },
  {
   "cell_type": "code",
   "execution_count": null,
   "id": "19e65546",
   "metadata": {},
   "outputs": [],
   "source": [
    "from sklearn.model_selection import train_test_split\n",
    "\n",
    "inputs_train, inputs_test, outputs_train, outputs_test = train_test_split(inputs, outputs, train_size = 0.8, random_state = 3)"
   ]
  },
  {
   "cell_type": "code",
   "execution_count": null,
   "id": "88ff0bc0",
   "metadata": {},
   "outputs": [],
   "source": [
    "inputs_train.info()\n",
    "inputs_test.info()"
   ]
  },
  {
   "cell_type": "code",
   "execution_count": null,
   "id": "26dccb55",
   "metadata": {},
   "outputs": [],
   "source": [
    "# Класс для ИНС (пока нерабочий)\n",
    "class NeuralNetwork:\n",
    "  fitness = 0.0\n",
    "  def __init__(self, shape):\n",
    "    self.neurons = []\n",
    "    self.w = []\n",
    "    self.b = []\n",
    "\n",
    "  def sigmoid(x):\n",
    "    s = np.array(x)\n",
    "    s = 1/(1+np.exp(-s))\n",
    "    return s\n",
    "\n",
    "  def forward_propagation(self, inputs):\n",
    "      if len(inputs) == len(self.neurons[0]):\n",
    "      self.neurons[0][:]=data[:]\n",
    "\n",
    "      for i in range(1,len(self.neurons)):\n",
    "        for j in range(len(self.neurons[i])):\n",
    "          self.neurons[i][j]=sigmoid(np.dot(self.neurons[i-1],self.w[i-1][j])+self.b[i-1][j])\n",
    "      return self.neurons[-1]\n",
    "\n",
    "  def mutation(self):\n",
    "      pass\n",
    "\n"
   ]
  },
  {
   "cell_type": "code",
   "execution_count": null,
   "id": "ba54fcb7",
   "metadata": {},
   "outputs": [],
   "source": [
    "# Гиперпараметры\n",
    "\n",
    "EPOCHS = 500\n",
    "SHAPE_NN = (8,7,6,1)\n",
    "NNS_IN_POPULATION_COUNTS = 10\n",
    "\n",
    "CORRELATION_CONSTANT = 0.4\n",
    "BLX_A = 0.5\n",
    "MUTATION_COUNTS = 2\n"
   ]
  },
  {
   "cell_type": "code",
   "execution_count": null,
   "id": "f6e7da2f",
   "metadata": {},
   "outputs": [],
   "source": [
    "# инициализация начальной популяции\n",
    "\n",
    "for count in range(COUNT_NNS_IN_POPULATION):\n",
    "  neural_network = NeuralNetwork(SHAPE_NN)\n",
    "  population.append(neural_network)\n",
    "\n",
    "error_f = np.zeros(len(population))"
   ]
  }
 ],
 "metadata": {
  "kernelspec": {
   "display_name": "Python 3 (ipykernel)",
   "language": "python",
   "name": "python3"
  },
  "language_info": {
   "codemirror_mode": {
    "name": "ipython",
    "version": 3
   },
   "file_extension": ".py",
   "mimetype": "text/x-python",
   "name": "python",
   "nbconvert_exporter": "python",
   "pygments_lexer": "ipython3",
   "version": "3.8.11"
  }
 },
 "nbformat": 4,
 "nbformat_minor": 5
}
