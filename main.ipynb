{
 "cells": [
  {
   "cell_type": "markdown",
   "id": "e0700151",
   "metadata": {},
   "source": [
    "# Нейроэволюционный алгоритм"
   ]
  },
  {
   "cell_type": "markdown",
   "id": "3f0373fa",
   "metadata": {},
   "source": [
    "## Загружаем и подготавливаем данные для работы\n",
    "\n",
    "### Строки, не несущие информацию были удалены"
   ]
  },
  {
   "cell_type": "code",
   "execution_count": 1,
   "id": "d7ea9fdb",
   "metadata": {
    "scrolled": true
   },
   "outputs": [
    {
     "data": {
      "text/html": [
       "<style type='text/css'>\n",
       ".datatable table.frame { margin-bottom: 0; }\n",
       ".datatable table.frame thead { border-bottom: none; }\n",
       ".datatable table.frame tr.coltypes td {  color: #FFFFFF;  line-height: 6px;  padding: 0 0.5em;}\n",
       ".datatable .bool    { background: #DDDD99; }\n",
       ".datatable .object  { background: #565656; }\n",
       ".datatable .int     { background: #5D9E5D; }\n",
       ".datatable .float   { background: #4040CC; }\n",
       ".datatable .str     { background: #CC4040; }\n",
       ".datatable .time    { background: #40CC40; }\n",
       ".datatable .row_index {  background: var(--jp-border-color3);  border-right: 1px solid var(--jp-border-color0);  color: var(--jp-ui-font-color3);  font-size: 9px;}\n",
       ".datatable .frame tbody td { text-align: left; }\n",
       ".datatable .frame tr.coltypes .row_index {  background: var(--jp-border-color0);}\n",
       ".datatable th:nth-child(2) { padding-left: 12px; }\n",
       ".datatable .hellipsis {  color: var(--jp-cell-editor-border-color);}\n",
       ".datatable .vellipsis {  background: var(--jp-layout-color0);  color: var(--jp-cell-editor-border-color);}\n",
       ".datatable .na {  color: var(--jp-cell-editor-border-color);  font-size: 80%;}\n",
       ".datatable .sp {  opacity: 0.25;}\n",
       ".datatable .footer { font-size: 9px; }\n",
       ".datatable .frame_dimensions {  background: var(--jp-border-color3);  border-top: 1px solid var(--jp-border-color0);  color: var(--jp-ui-font-color3);  display: inline-block;  opacity: 0.6;  padding: 1px 10px 1px 5px;}\n",
       "</style>\n"
      ],
      "text/plain": [
       "<IPython.core.display.HTML object>"
      ]
     },
     "metadata": {},
     "output_type": "display_data"
    }
   ],
   "source": [
    "import datatable as dt\n",
    "data = dt.fread('cancer1.dt')\n",
    "del data[0:7,:]"
   ]
  },
  {
   "cell_type": "markdown",
   "id": "e8246834",
   "metadata": {},
   "source": [
    "## Преробразуем данные в формат pandas.DataFrame "
   ]
  },
  {
   "cell_type": "code",
   "execution_count": 2,
   "id": "8e522ab4",
   "metadata": {},
   "outputs": [
    {
     "data": {
      "text/html": [
       "<div>\n",
       "<style scoped>\n",
       "    .dataframe tbody tr th:only-of-type {\n",
       "        vertical-align: middle;\n",
       "    }\n",
       "\n",
       "    .dataframe tbody tr th {\n",
       "        vertical-align: top;\n",
       "    }\n",
       "\n",
       "    .dataframe thead th {\n",
       "        text-align: right;\n",
       "    }\n",
       "</style>\n",
       "<table border=\"1\" class=\"dataframe\">\n",
       "  <thead>\n",
       "    <tr style=\"text-align: right;\">\n",
       "      <th></th>\n",
       "      <th>C0</th>\n",
       "      <th>C1</th>\n",
       "      <th>C2</th>\n",
       "      <th>C3</th>\n",
       "      <th>C4</th>\n",
       "      <th>C5</th>\n",
       "      <th>C6</th>\n",
       "      <th>C7</th>\n",
       "      <th>C8</th>\n",
       "      <th>C9</th>\n",
       "      <th>C10</th>\n",
       "    </tr>\n",
       "  </thead>\n",
       "  <tbody>\n",
       "    <tr>\n",
       "      <th>0</th>\n",
       "      <td>0.2</td>\n",
       "      <td>0.1</td>\n",
       "      <td>0.1</td>\n",
       "      <td>0.1</td>\n",
       "      <td>0.2</td>\n",
       "      <td>0.1</td>\n",
       "      <td>0.2</td>\n",
       "      <td>0.1</td>\n",
       "      <td>0.1</td>\n",
       "      <td>True</td>\n",
       "      <td>False</td>\n",
       "    </tr>\n",
       "    <tr>\n",
       "      <th>1</th>\n",
       "      <td>0.2</td>\n",
       "      <td>0.1</td>\n",
       "      <td>0.1</td>\n",
       "      <td>0.1</td>\n",
       "      <td>0.2</td>\n",
       "      <td>0.1</td>\n",
       "      <td>0.3</td>\n",
       "      <td>0.1</td>\n",
       "      <td>0.1</td>\n",
       "      <td>True</td>\n",
       "      <td>False</td>\n",
       "    </tr>\n",
       "    <tr>\n",
       "      <th>2</th>\n",
       "      <td>0.5</td>\n",
       "      <td>0.1</td>\n",
       "      <td>0.1</td>\n",
       "      <td>0.1</td>\n",
       "      <td>0.2</td>\n",
       "      <td>0.1</td>\n",
       "      <td>0.2</td>\n",
       "      <td>0.1</td>\n",
       "      <td>0.1</td>\n",
       "      <td>True</td>\n",
       "      <td>False</td>\n",
       "    </tr>\n",
       "    <tr>\n",
       "      <th>3</th>\n",
       "      <td>0.5</td>\n",
       "      <td>0.4</td>\n",
       "      <td>0.6</td>\n",
       "      <td>0.8</td>\n",
       "      <td>0.4</td>\n",
       "      <td>0.1</td>\n",
       "      <td>0.8</td>\n",
       "      <td>1.0</td>\n",
       "      <td>0.1</td>\n",
       "      <td>False</td>\n",
       "      <td>True</td>\n",
       "    </tr>\n",
       "    <tr>\n",
       "      <th>4</th>\n",
       "      <td>0.5</td>\n",
       "      <td>0.3</td>\n",
       "      <td>0.3</td>\n",
       "      <td>0.1</td>\n",
       "      <td>0.2</td>\n",
       "      <td>0.1</td>\n",
       "      <td>0.2</td>\n",
       "      <td>0.1</td>\n",
       "      <td>0.1</td>\n",
       "      <td>True</td>\n",
       "      <td>False</td>\n",
       "    </tr>\n",
       "    <tr>\n",
       "      <th>...</th>\n",
       "      <td>...</td>\n",
       "      <td>...</td>\n",
       "      <td>...</td>\n",
       "      <td>...</td>\n",
       "      <td>...</td>\n",
       "      <td>...</td>\n",
       "      <td>...</td>\n",
       "      <td>...</td>\n",
       "      <td>...</td>\n",
       "      <td>...</td>\n",
       "      <td>...</td>\n",
       "    </tr>\n",
       "    <tr>\n",
       "      <th>694</th>\n",
       "      <td>0.5</td>\n",
       "      <td>0.1</td>\n",
       "      <td>0.2</td>\n",
       "      <td>0.1</td>\n",
       "      <td>0.2</td>\n",
       "      <td>0.1</td>\n",
       "      <td>0.1</td>\n",
       "      <td>0.1</td>\n",
       "      <td>0.1</td>\n",
       "      <td>True</td>\n",
       "      <td>False</td>\n",
       "    </tr>\n",
       "    <tr>\n",
       "      <th>695</th>\n",
       "      <td>0.7</td>\n",
       "      <td>0.5</td>\n",
       "      <td>0.6</td>\n",
       "      <td>1.0</td>\n",
       "      <td>0.5</td>\n",
       "      <td>1.0</td>\n",
       "      <td>0.7</td>\n",
       "      <td>0.9</td>\n",
       "      <td>0.4</td>\n",
       "      <td>False</td>\n",
       "      <td>True</td>\n",
       "    </tr>\n",
       "    <tr>\n",
       "      <th>696</th>\n",
       "      <td>0.6</td>\n",
       "      <td>1.0</td>\n",
       "      <td>1.0</td>\n",
       "      <td>1.0</td>\n",
       "      <td>0.8</td>\n",
       "      <td>1.0</td>\n",
       "      <td>0.7</td>\n",
       "      <td>1.0</td>\n",
       "      <td>0.7</td>\n",
       "      <td>False</td>\n",
       "      <td>True</td>\n",
       "    </tr>\n",
       "    <tr>\n",
       "      <th>697</th>\n",
       "      <td>0.5</td>\n",
       "      <td>0.7</td>\n",
       "      <td>1.0</td>\n",
       "      <td>1.0</td>\n",
       "      <td>0.5</td>\n",
       "      <td>1.0</td>\n",
       "      <td>1.0</td>\n",
       "      <td>1.0</td>\n",
       "      <td>0.1</td>\n",
       "      <td>False</td>\n",
       "      <td>True</td>\n",
       "    </tr>\n",
       "    <tr>\n",
       "      <th>698</th>\n",
       "      <td>0.1</td>\n",
       "      <td>0.1</td>\n",
       "      <td>0.1</td>\n",
       "      <td>0.1</td>\n",
       "      <td>0.2</td>\n",
       "      <td>0.1</td>\n",
       "      <td>0.2</td>\n",
       "      <td>0.1</td>\n",
       "      <td>0.1</td>\n",
       "      <td>True</td>\n",
       "      <td>False</td>\n",
       "    </tr>\n",
       "  </tbody>\n",
       "</table>\n",
       "<p>699 rows × 11 columns</p>\n",
       "</div>"
      ],
      "text/plain": [
       "      C0   C1   C2   C3   C4   C5   C6   C7   C8     C9    C10\n",
       "0    0.2  0.1  0.1  0.1  0.2  0.1  0.2  0.1  0.1   True  False\n",
       "1    0.2  0.1  0.1  0.1  0.2  0.1  0.3  0.1  0.1   True  False\n",
       "2    0.5  0.1  0.1  0.1  0.2  0.1  0.2  0.1  0.1   True  False\n",
       "3    0.5  0.4  0.6  0.8  0.4  0.1  0.8  1.0  0.1  False   True\n",
       "4    0.5  0.3  0.3  0.1  0.2  0.1  0.2  0.1  0.1   True  False\n",
       "..   ...  ...  ...  ...  ...  ...  ...  ...  ...    ...    ...\n",
       "694  0.5  0.1  0.2  0.1  0.2  0.1  0.1  0.1  0.1   True  False\n",
       "695  0.7  0.5  0.6  1.0  0.5  1.0  0.7  0.9  0.4  False   True\n",
       "696  0.6  1.0  1.0  1.0  0.8  1.0  0.7  1.0  0.7  False   True\n",
       "697  0.5  0.7  1.0  1.0  0.5  1.0  1.0  1.0  0.1  False   True\n",
       "698  0.1  0.1  0.1  0.1  0.2  0.1  0.2  0.1  0.1   True  False\n",
       "\n",
       "[699 rows x 11 columns]"
      ]
     },
     "execution_count": 2,
     "metadata": {},
     "output_type": "execute_result"
    }
   ],
   "source": [
    "import pandas as pd\n",
    "df = pd.DataFrame(data.to_pandas())\n",
    "df"
   ]
  },
  {
   "cell_type": "markdown",
   "id": "30769ab3",
   "metadata": {},
   "source": [
    "## Разделяем данные на входные и требуемые выходные значения"
   ]
  },
  {
   "cell_type": "code",
   "execution_count": 3,
   "id": "597ed45e",
   "metadata": {},
   "outputs": [
    {
     "data": {
      "text/plain": [
       "0      1\n",
       "1      1\n",
       "2      1\n",
       "3      0\n",
       "4      1\n",
       "      ..\n",
       "694    1\n",
       "695    0\n",
       "696    0\n",
       "697    0\n",
       "698    1\n",
       "Name: C9, Length: 699, dtype: int64"
      ]
     },
     "execution_count": 3,
     "metadata": {},
     "output_type": "execute_result"
    }
   ],
   "source": [
    "outputs = df[['C9','C10']] \\\n",
    "                    .iloc[:,0]\\\n",
    "                    .astype('int64')\n",
    "\n",
    "outputs"
   ]
  },
  {
   "cell_type": "code",
   "execution_count": 4,
   "id": "2cdbe939",
   "metadata": {
    "scrolled": true
   },
   "outputs": [
    {
     "data": {
      "text/html": [
       "<div>\n",
       "<style scoped>\n",
       "    .dataframe tbody tr th:only-of-type {\n",
       "        vertical-align: middle;\n",
       "    }\n",
       "\n",
       "    .dataframe tbody tr th {\n",
       "        vertical-align: top;\n",
       "    }\n",
       "\n",
       "    .dataframe thead th {\n",
       "        text-align: right;\n",
       "    }\n",
       "</style>\n",
       "<table border=\"1\" class=\"dataframe\">\n",
       "  <thead>\n",
       "    <tr style=\"text-align: right;\">\n",
       "      <th></th>\n",
       "      <th>C0</th>\n",
       "      <th>C1</th>\n",
       "      <th>C2</th>\n",
       "      <th>C3</th>\n",
       "      <th>C4</th>\n",
       "      <th>C5</th>\n",
       "      <th>C6</th>\n",
       "      <th>C7</th>\n",
       "      <th>C8</th>\n",
       "    </tr>\n",
       "  </thead>\n",
       "  <tbody>\n",
       "    <tr>\n",
       "      <th>0</th>\n",
       "      <td>0.2</td>\n",
       "      <td>0.1</td>\n",
       "      <td>0.1</td>\n",
       "      <td>0.1</td>\n",
       "      <td>0.2</td>\n",
       "      <td>0.1</td>\n",
       "      <td>0.2</td>\n",
       "      <td>0.1</td>\n",
       "      <td>0.1</td>\n",
       "    </tr>\n",
       "    <tr>\n",
       "      <th>1</th>\n",
       "      <td>0.2</td>\n",
       "      <td>0.1</td>\n",
       "      <td>0.1</td>\n",
       "      <td>0.1</td>\n",
       "      <td>0.2</td>\n",
       "      <td>0.1</td>\n",
       "      <td>0.3</td>\n",
       "      <td>0.1</td>\n",
       "      <td>0.1</td>\n",
       "    </tr>\n",
       "    <tr>\n",
       "      <th>2</th>\n",
       "      <td>0.5</td>\n",
       "      <td>0.1</td>\n",
       "      <td>0.1</td>\n",
       "      <td>0.1</td>\n",
       "      <td>0.2</td>\n",
       "      <td>0.1</td>\n",
       "      <td>0.2</td>\n",
       "      <td>0.1</td>\n",
       "      <td>0.1</td>\n",
       "    </tr>\n",
       "    <tr>\n",
       "      <th>3</th>\n",
       "      <td>0.5</td>\n",
       "      <td>0.4</td>\n",
       "      <td>0.6</td>\n",
       "      <td>0.8</td>\n",
       "      <td>0.4</td>\n",
       "      <td>0.1</td>\n",
       "      <td>0.8</td>\n",
       "      <td>1.0</td>\n",
       "      <td>0.1</td>\n",
       "    </tr>\n",
       "    <tr>\n",
       "      <th>4</th>\n",
       "      <td>0.5</td>\n",
       "      <td>0.3</td>\n",
       "      <td>0.3</td>\n",
       "      <td>0.1</td>\n",
       "      <td>0.2</td>\n",
       "      <td>0.1</td>\n",
       "      <td>0.2</td>\n",
       "      <td>0.1</td>\n",
       "      <td>0.1</td>\n",
       "    </tr>\n",
       "    <tr>\n",
       "      <th>...</th>\n",
       "      <td>...</td>\n",
       "      <td>...</td>\n",
       "      <td>...</td>\n",
       "      <td>...</td>\n",
       "      <td>...</td>\n",
       "      <td>...</td>\n",
       "      <td>...</td>\n",
       "      <td>...</td>\n",
       "      <td>...</td>\n",
       "    </tr>\n",
       "    <tr>\n",
       "      <th>694</th>\n",
       "      <td>0.5</td>\n",
       "      <td>0.1</td>\n",
       "      <td>0.2</td>\n",
       "      <td>0.1</td>\n",
       "      <td>0.2</td>\n",
       "      <td>0.1</td>\n",
       "      <td>0.1</td>\n",
       "      <td>0.1</td>\n",
       "      <td>0.1</td>\n",
       "    </tr>\n",
       "    <tr>\n",
       "      <th>695</th>\n",
       "      <td>0.7</td>\n",
       "      <td>0.5</td>\n",
       "      <td>0.6</td>\n",
       "      <td>1.0</td>\n",
       "      <td>0.5</td>\n",
       "      <td>1.0</td>\n",
       "      <td>0.7</td>\n",
       "      <td>0.9</td>\n",
       "      <td>0.4</td>\n",
       "    </tr>\n",
       "    <tr>\n",
       "      <th>696</th>\n",
       "      <td>0.6</td>\n",
       "      <td>1.0</td>\n",
       "      <td>1.0</td>\n",
       "      <td>1.0</td>\n",
       "      <td>0.8</td>\n",
       "      <td>1.0</td>\n",
       "      <td>0.7</td>\n",
       "      <td>1.0</td>\n",
       "      <td>0.7</td>\n",
       "    </tr>\n",
       "    <tr>\n",
       "      <th>697</th>\n",
       "      <td>0.5</td>\n",
       "      <td>0.7</td>\n",
       "      <td>1.0</td>\n",
       "      <td>1.0</td>\n",
       "      <td>0.5</td>\n",
       "      <td>1.0</td>\n",
       "      <td>1.0</td>\n",
       "      <td>1.0</td>\n",
       "      <td>0.1</td>\n",
       "    </tr>\n",
       "    <tr>\n",
       "      <th>698</th>\n",
       "      <td>0.1</td>\n",
       "      <td>0.1</td>\n",
       "      <td>0.1</td>\n",
       "      <td>0.1</td>\n",
       "      <td>0.2</td>\n",
       "      <td>0.1</td>\n",
       "      <td>0.2</td>\n",
       "      <td>0.1</td>\n",
       "      <td>0.1</td>\n",
       "    </tr>\n",
       "  </tbody>\n",
       "</table>\n",
       "<p>699 rows × 9 columns</p>\n",
       "</div>"
      ],
      "text/plain": [
       "      C0   C1   C2   C3   C4   C5   C6   C7   C8\n",
       "0    0.2  0.1  0.1  0.1  0.2  0.1  0.2  0.1  0.1\n",
       "1    0.2  0.1  0.1  0.1  0.2  0.1  0.3  0.1  0.1\n",
       "2    0.5  0.1  0.1  0.1  0.2  0.1  0.2  0.1  0.1\n",
       "3    0.5  0.4  0.6  0.8  0.4  0.1  0.8  1.0  0.1\n",
       "4    0.5  0.3  0.3  0.1  0.2  0.1  0.2  0.1  0.1\n",
       "..   ...  ...  ...  ...  ...  ...  ...  ...  ...\n",
       "694  0.5  0.1  0.2  0.1  0.2  0.1  0.1  0.1  0.1\n",
       "695  0.7  0.5  0.6  1.0  0.5  1.0  0.7  0.9  0.4\n",
       "696  0.6  1.0  1.0  1.0  0.8  1.0  0.7  1.0  0.7\n",
       "697  0.5  0.7  1.0  1.0  0.5  1.0  1.0  1.0  0.1\n",
       "698  0.1  0.1  0.1  0.1  0.2  0.1  0.2  0.1  0.1\n",
       "\n",
       "[699 rows x 9 columns]"
      ]
     },
     "execution_count": 4,
     "metadata": {},
     "output_type": "execute_result"
    }
   ],
   "source": [
    "inputs = df.iloc[:, 0:9].copy().astype('float64')\n",
    "inputs"
   ]
  },
  {
   "cell_type": "markdown",
   "id": "dc0d7480",
   "metadata": {},
   "source": [
    "## Разбиваем выборку на тренировочную и тестовую"
   ]
  },
  {
   "cell_type": "code",
   "execution_count": 5,
   "id": "386ce758",
   "metadata": {},
   "outputs": [],
   "source": [
    "from sklearn.model_selection import train_test_split\n",
    "\n",
    "inputs_train, inputs_test, outputs_train, outputs_test = train_test_split(inputs, outputs, train_size = 0.8, random_state = 3)"
   ]
  },
  {
   "cell_type": "code",
   "execution_count": 6,
   "id": "43f7ff2c",
   "metadata": {},
   "outputs": [
    {
     "name": "stdout",
     "output_type": "stream",
     "text": [
      "<class 'pandas.core.frame.DataFrame'>\n",
      "Int64Index: 559 entries, 108 to 664\n",
      "Data columns (total 9 columns):\n",
      " #   Column  Non-Null Count  Dtype  \n",
      "---  ------  --------------  -----  \n",
      " 0   C0      559 non-null    float64\n",
      " 1   C1      559 non-null    float64\n",
      " 2   C2      559 non-null    float64\n",
      " 3   C3      559 non-null    float64\n",
      " 4   C4      559 non-null    float64\n",
      " 5   C5      559 non-null    float64\n",
      " 6   C6      559 non-null    float64\n",
      " 7   C7      559 non-null    float64\n",
      " 8   C8      559 non-null    float64\n",
      "dtypes: float64(9)\n",
      "memory usage: 43.7 KB\n",
      "<class 'pandas.core.frame.DataFrame'>\n",
      "Int64Index: 140 entries, 386 to 326\n",
      "Data columns (total 9 columns):\n",
      " #   Column  Non-Null Count  Dtype  \n",
      "---  ------  --------------  -----  \n",
      " 0   C0      140 non-null    float64\n",
      " 1   C1      140 non-null    float64\n",
      " 2   C2      140 non-null    float64\n",
      " 3   C3      140 non-null    float64\n",
      " 4   C4      140 non-null    float64\n",
      " 5   C5      140 non-null    float64\n",
      " 6   C6      140 non-null    float64\n",
      " 7   C7      140 non-null    float64\n",
      " 8   C8      140 non-null    float64\n",
      "dtypes: float64(9)\n",
      "memory usage: 10.9 KB\n"
     ]
    }
   ],
   "source": [
    "inputs_train.info()\n",
    "inputs_test.info()\n",
    "\n"
   ]
  },
  {
   "cell_type": "code",
   "execution_count": 7,
   "id": "8b79c32f",
   "metadata": {},
   "outputs": [],
   "source": [
    "from NeurlaNetwork import NeuralNetwork\n",
    "import settings\n",
    "import numpy as np"
   ]
  },
  {
   "cell_type": "code",
   "execution_count": null,
   "id": "173308b4",
   "metadata": {},
   "outputs": [],
   "source": [
    "\n"
   ]
  },
  {
   "cell_type": "markdown",
   "id": "e1c204ee",
   "metadata": {
    "id": "5-ZLc1N_h9d8"
   },
   "source": [
    "$BLX-{\\alpha}$ кроссинговер."
   ]
  },
  {
   "cell_type": "code",
   "execution_count": 14,
   "id": "d5c4505d",
   "metadata": {
    "id": "NAv8f3b5UnDV"
   },
   "outputs": [],
   "source": [
    "def crossbreeding(nn_1, nn_2, BLX_A):\n",
    "  nn_of_1 = NeuralNetwork(shape=nn_1.shape)\n",
    "  nn_of_2 = NeuralNetwork(shape=nn_2.shape)\n",
    "\n",
    "  for i in range(len(nn_1.weights)):\n",
    "    for j in range(len(nn_1.weights[i])):\n",
    "      for k in range(len(nn_1.weights[i][j])):\n",
    "        c_min = np.minimum(nn_1.weights[i][j][k],nn_2.weights[i][j][k])\n",
    "        c_max = np.maximum(nn_1.weights[i][j][k],nn_2.weights[i][j][k])\n",
    "        delat_k = c_max-c_min\n",
    "        nn_of_1.weights[i][j][k] = np.random.uniform(c_min-delat_k*BLX_A,c_max-delat_k*BLX_A)\n",
    "        nn_of_2.weights[i][j][k] = np.random.uniform(c_min-delat_k*BLX_A,c_max-delat_k*BLX_A)\n",
    "\n",
    "  return nn_of_1, nn_of_2"
   ]
  },
  {
   "cell_type": "markdown",
   "id": "91d98fc8",
   "metadata": {
    "id": "Kaa1_SO0ikPa"
   },
   "source": [
    "Функция для прямого распространения в ансамбле ИНС."
   ]
  },
  {
   "cell_type": "code",
   "execution_count": 9,
   "id": "9bd7c61a",
   "metadata": {
    "id": "rdgjnk_4dSfY"
   },
   "outputs": [],
   "source": [
    "def forward_prop_ensemble(ensemble,X):\n",
    "  for count in range(len(ensemble)):\n",
    "      ensemble[count].forward_propagation(X)"
   ]
  },
  {
   "cell_type": "markdown",
   "id": "b30f9540",
   "metadata": {
    "id": "9BPglN5cizrT"
   },
   "source": [
    "\"Голосование\" ансамбля ИНС (результат вероятность)."
   ]
  },
  {
   "cell_type": "code",
   "execution_count": 10,
   "id": "4dcf049e",
   "metadata": {
    "id": "x0CXO6VHd4X6"
   },
   "outputs": [],
   "source": [
    "def ensemble_bagging_preds(ensemble):\n",
    "  F = 0\n",
    "  for count in range(len(ensemble)):\n",
    "    F += np.sum(ensemble[count].neurons[-1])/len(ensemble)\n",
    "  return F"
   ]
  },
  {
   "cell_type": "markdown",
   "id": "58964c1c",
   "metadata": {
    "id": "3rXmcsl1jKPQ"
   },
   "source": [
    "\"Голосование\" ансамбля ИНС (дискретный результат - 0 или 1)."
   ]
  },
  {
   "cell_type": "code",
   "execution_count": 11,
   "id": "ab75e93e",
   "metadata": {
    "id": "JWRxnVp5k3OP"
   },
   "outputs": [],
   "source": [
    "def ensemble_bagging(ensemble):\n",
    "  F = 0\n",
    "  for count in range(len(ensemble)):\n",
    "    F += np.sum(ensemble[count].neurons[-1])/len(ensemble)\n",
    "  if F>0.5:\n",
    "    return 1\n",
    "  else:\n",
    "    return 0"
   ]
  },
  {
   "cell_type": "markdown",
   "id": "01ce4308",
   "metadata": {
    "id": "2ZvXmvqpl3C3"
   },
   "source": [
    "Функция для оценивания точности обученного классификатора на тестовой выборке."
   ]
  },
  {
   "cell_type": "code",
   "execution_count": 12,
   "id": "7ad332c7",
   "metadata": {
    "id": "usHB8JBUl4jT"
   },
   "outputs": [],
   "source": [
    "def ensemble_est(ensemble,X,y):\n",
    "  # размер тестового датасета\n",
    "  data_set_size = y.shape[0]\n",
    "  # количество правильно классифицированных случаев\n",
    "  correct = 0\n",
    "  for i in range(data_set_size):\n",
    "    for count in range(len(ensemble)):\n",
    "      population[count].forward_propagation(X.iloc[i,:].to_numpy())\n",
    "    prediction = ensemble_bagging(ensemble)\n",
    "    if prediction == y.iloc[i]:\n",
    "      correct +=1\n",
    "  accuracy = correct/data_set_size*100\n",
    "  print(f'accuracy: {accuracy}%')\n",
    "  return accuracy"
   ]
  },
  {
   "cell_type": "markdown",
   "id": "5881d066",
   "metadata": {
    "id": "-15HbCOXjn_6"
   },
   "source": [
    "Основной алгоритм"
   ]
  },
  {
   "cell_type": "code",
   "execution_count": 15,
   "id": "a6bb0ec6",
   "metadata": {
    "colab": {
     "base_uri": "https://localhost:8080/"
    },
    "id": "0doL45lrCUMy",
    "outputId": "3d373604-fb2f-4700-8fa0-5971916d08e6",
    "pycharm": {
     "name": "#%%\n"
    }
   },
   "outputs": [
    {
     "ename": "AttributeError",
     "evalue": "'NeuralNetwork' object has no attribute 'w'",
     "output_type": "error",
     "traceback": [
      "\u001B[1;31m---------------------------------------------------------------------------\u001B[0m",
      "\u001B[1;31mAttributeError\u001B[0m                            Traceback (most recent call last)",
      "\u001B[1;32m~\\AppData\\Local\\Temp/ipykernel_12096/159162591.py\u001B[0m in \u001B[0;36m<module>\u001B[1;34m\u001B[0m\n\u001B[0;32m     52\u001B[0m     \u001B[0mp\u001B[0m \u001B[1;33m=\u001B[0m \u001B[0mnp\u001B[0m\u001B[1;33m.\u001B[0m\u001B[0mzeros_like\u001B[0m\u001B[1;33m(\u001B[0m\u001B[0merror_f\u001B[0m\u001B[1;33m)\u001B[0m\u001B[1;33m\u001B[0m\u001B[1;33m\u001B[0m\u001B[0m\n\u001B[0;32m     53\u001B[0m     \u001B[1;31m# прямое распространение для всей популяции\u001B[0m\u001B[1;33m\u001B[0m\u001B[1;33m\u001B[0m\u001B[1;33m\u001B[0m\u001B[0m\n\u001B[1;32m---> 54\u001B[1;33m     \u001B[0mforward_prop_ensemble\u001B[0m\u001B[1;33m(\u001B[0m\u001B[0mpopulation\u001B[0m\u001B[1;33m,\u001B[0m\u001B[0mpiece_of_data\u001B[0m\u001B[1;33m)\u001B[0m\u001B[1;33m\u001B[0m\u001B[1;33m\u001B[0m\u001B[0m\n\u001B[0m\u001B[0;32m     55\u001B[0m \u001B[1;33m\u001B[0m\u001B[0m\n\u001B[0;32m     56\u001B[0m     \u001B[1;31m# общий вывод популяции\u001B[0m\u001B[1;33m\u001B[0m\u001B[1;33m\u001B[0m\u001B[1;33m\u001B[0m\u001B[0m\n",
      "\u001B[1;32m~\\AppData\\Local\\Temp/ipykernel_12096/2918348198.py\u001B[0m in \u001B[0;36mforward_prop_ensemble\u001B[1;34m(ensemble, X)\u001B[0m\n\u001B[0;32m      1\u001B[0m \u001B[1;32mdef\u001B[0m \u001B[0mforward_prop_ensemble\u001B[0m\u001B[1;33m(\u001B[0m\u001B[0mensemble\u001B[0m\u001B[1;33m,\u001B[0m\u001B[0mX\u001B[0m\u001B[1;33m)\u001B[0m\u001B[1;33m:\u001B[0m\u001B[1;33m\u001B[0m\u001B[1;33m\u001B[0m\u001B[0m\n\u001B[0;32m      2\u001B[0m   \u001B[1;32mfor\u001B[0m \u001B[0mcount\u001B[0m \u001B[1;32min\u001B[0m \u001B[0mrange\u001B[0m\u001B[1;33m(\u001B[0m\u001B[0mlen\u001B[0m\u001B[1;33m(\u001B[0m\u001B[0mensemble\u001B[0m\u001B[1;33m)\u001B[0m\u001B[1;33m)\u001B[0m\u001B[1;33m:\u001B[0m\u001B[1;33m\u001B[0m\u001B[1;33m\u001B[0m\u001B[0m\n\u001B[1;32m----> 3\u001B[1;33m       \u001B[0mensemble\u001B[0m\u001B[1;33m[\u001B[0m\u001B[0mcount\u001B[0m\u001B[1;33m]\u001B[0m\u001B[1;33m.\u001B[0m\u001B[0mforward_propagation\u001B[0m\u001B[1;33m(\u001B[0m\u001B[0mX\u001B[0m\u001B[1;33m)\u001B[0m\u001B[1;33m\u001B[0m\u001B[1;33m\u001B[0m\u001B[0m\n\u001B[0m",
      "\u001B[1;32mD:\\Programming_projects\\machine_learning\\neuroevolution_algorithm\\NeurlaNetwork.py\u001B[0m in \u001B[0;36mforward_propagation\u001B[1;34m(self, inputs)\u001B[0m\n\u001B[0;32m     28\u001B[0m         \u001B[1;32mfor\u001B[0m \u001B[0mi\u001B[0m \u001B[1;32min\u001B[0m \u001B[0mrange\u001B[0m\u001B[1;33m(\u001B[0m\u001B[1;36m1\u001B[0m\u001B[1;33m,\u001B[0m \u001B[0mlen\u001B[0m\u001B[1;33m(\u001B[0m\u001B[0mself\u001B[0m\u001B[1;33m.\u001B[0m\u001B[0mneurons\u001B[0m\u001B[1;33m)\u001B[0m\u001B[1;33m)\u001B[0m\u001B[1;33m:\u001B[0m\u001B[1;33m\u001B[0m\u001B[1;33m\u001B[0m\u001B[0m\n\u001B[0;32m     29\u001B[0m             \u001B[1;32mfor\u001B[0m \u001B[0mj\u001B[0m \u001B[1;32min\u001B[0m \u001B[0mrange\u001B[0m\u001B[1;33m(\u001B[0m\u001B[0mlen\u001B[0m\u001B[1;33m(\u001B[0m\u001B[0mself\u001B[0m\u001B[1;33m.\u001B[0m\u001B[0mneurons\u001B[0m\u001B[1;33m[\u001B[0m\u001B[0mi\u001B[0m\u001B[1;33m]\u001B[0m\u001B[1;33m)\u001B[0m\u001B[1;33m)\u001B[0m\u001B[1;33m:\u001B[0m\u001B[1;33m\u001B[0m\u001B[1;33m\u001B[0m\u001B[0m\n\u001B[1;32m---> 30\u001B[1;33m                 \u001B[0mself\u001B[0m\u001B[1;33m.\u001B[0m\u001B[0mneurons\u001B[0m\u001B[1;33m[\u001B[0m\u001B[0mi\u001B[0m\u001B[1;33m]\u001B[0m\u001B[1;33m[\u001B[0m\u001B[0mj\u001B[0m\u001B[1;33m]\u001B[0m \u001B[1;33m=\u001B[0m \u001B[0msigmoid\u001B[0m\u001B[1;33m(\u001B[0m\u001B[0mnp\u001B[0m\u001B[1;33m.\u001B[0m\u001B[0mdot\u001B[0m\u001B[1;33m(\u001B[0m\u001B[0mself\u001B[0m\u001B[1;33m.\u001B[0m\u001B[0mneurons\u001B[0m\u001B[1;33m[\u001B[0m\u001B[0mi\u001B[0m\u001B[1;33m-\u001B[0m\u001B[1;36m1\u001B[0m\u001B[1;33m]\u001B[0m\u001B[1;33m,\u001B[0m\u001B[0mself\u001B[0m\u001B[1;33m.\u001B[0m\u001B[0mw\u001B[0m\u001B[1;33m[\u001B[0m\u001B[0mi\u001B[0m\u001B[1;33m-\u001B[0m\u001B[1;36m1\u001B[0m\u001B[1;33m]\u001B[0m\u001B[1;33m[\u001B[0m\u001B[0mj\u001B[0m\u001B[1;33m]\u001B[0m\u001B[1;33m)\u001B[0m\u001B[1;33m+\u001B[0m\u001B[0mself\u001B[0m\u001B[1;33m.\u001B[0m\u001B[0mb\u001B[0m\u001B[1;33m[\u001B[0m\u001B[0mi\u001B[0m\u001B[1;33m-\u001B[0m\u001B[1;36m1\u001B[0m\u001B[1;33m]\u001B[0m\u001B[1;33m[\u001B[0m\u001B[0mj\u001B[0m\u001B[1;33m]\u001B[0m\u001B[1;33m)\u001B[0m\u001B[1;33m\u001B[0m\u001B[1;33m\u001B[0m\u001B[0m\n\u001B[0m\u001B[0;32m     31\u001B[0m         \u001B[1;32mreturn\u001B[0m \u001B[0mself\u001B[0m\u001B[1;33m.\u001B[0m\u001B[0mneurons\u001B[0m\u001B[1;33m[\u001B[0m\u001B[1;33m-\u001B[0m\u001B[1;36m1\u001B[0m\u001B[1;33m]\u001B[0m\u001B[1;33m\u001B[0m\u001B[1;33m\u001B[0m\u001B[0m\n\u001B[0;32m     32\u001B[0m \u001B[1;33m\u001B[0m\u001B[0m\n",
      "\u001B[1;31mAttributeError\u001B[0m: 'NeuralNetwork' object has no attribute 'w'"
     ]
    }
   ],
   "source": [
    "\n",
    "# формирование начальной популяции\n",
    "population = []\n",
    "model_accuracy_array = []\n",
    "epochs_array = []\n",
    "\n",
    "# инициализация начальной популяции\n",
    "for count in range(settings.NNS_IN_POPULATION_COUNTS):\n",
    "  neural_network = NeuralNetwork(shape=settings.SHAPE_NN)\n",
    "  population.append(neural_network)\n",
    "\n",
    "error_f = np.zeros(len(population))\n",
    "\n",
    "for epoch in range(settings.EPOCHS):\n",
    "\n",
    "  sort_indx = error_f.argsort() # индексы отсортированных элементов\n",
    "\n",
    "  # получаем двух особей усечением (лучшая половина популяции)\n",
    "  individual_1 = 0\n",
    "  individual_2 = 0\n",
    "  while individual_1 == individual_2:\n",
    "    individual_1 = np.random.randint(0, settings.NNS_IN_POPULATION_COUNTS / 2)\n",
    "    individual_2 = np.random.randint(0, settings.NNS_IN_POPULATION_COUNTS / 2)\n",
    "\n",
    "  # Кроссинговер BLX-a. Получаем двух потомков от двух родителей\n",
    "  nn_of_1,nn_of_2=crossbreeding(population[sort_indx[individual_1]],population[sort_indx[individual_2]],settings.BLX_A)\n",
    "\n",
    "# Удаляем особи с наибольшим значением функции ошибки\n",
    "  if sort_indx[-1]>sort_indx[-2]:\n",
    "    population.remove(population[sort_indx[-1]])\n",
    "    population.remove(population[sort_indx[-2]])\n",
    "  else:\n",
    "    population.remove(population[sort_indx[-2]])\n",
    "    population.remove(population[sort_indx[-1]])\n",
    "\n",
    "  population.append(nn_of_1)\n",
    "  population.append(nn_of_2)\n",
    "\n",
    "  # Гауссовская мутация\n",
    "  for mut_count in range(settings.MUTATION_COUNTS):\n",
    "    mut = np.random.randint(0,len(population))\n",
    "    population[mut].mutation()\n",
    "  # Обнулим значения в массиве значений функции ошибок\n",
    "  error_f[:]=0\n",
    "  # Цикл обучения\n",
    "  for learning_cycle in range(settings.LEARNING_SAMPLES):\n",
    "    #выбираем случайный индекс элемент тренировочного датасета\n",
    "    df_index = np.random.randint(0,inputs_train.shape[0])\n",
    "    # входные данные\n",
    "    piece_of_data = inputs_train.iloc[df_index,:].to_numpy()\n",
    "    # желаемый отклик\n",
    "    d = outputs_train.iloc[df_index]\n",
    "    p = np.zeros_like(error_f)\n",
    "    # прямое распространение для всей популяции\n",
    "    forward_prop_ensemble(population,piece_of_data)\n",
    "\n",
    "    # общий вывод популяции\n",
    "    F = ensemble_bagging_preds(population)\n",
    "\n",
    "    # расчёт функции корреляционного штрафа\n",
    "    for count in range(len(population)):\n",
    "      for count_p in range(len(population)):\n",
    "        if count_p != count:\n",
    "          p[count] += (population[count].neurons[-1]-F)*(population[count_p].neurons[-1]-F)\n",
    "      error_f[count]+=1/settings.LEARNING_SAMPLES/2*(population[count].neurons[-1]-d)**2+1/settings.LEARNING_SAMPLES*settings.CORRELATION_CONSTANT*p[count]\n",
    "  if epoch%50==0:\n",
    "    epochs_array.append(epoch)\n",
    "    print(f'epoch: {epoch}')\n",
    "    model_accuracy_array.append(ensemble_est(population,inputs_test,outputs_test))\n"
   ]
  },
  {
   "cell_type": "markdown",
   "id": "675cf590",
   "metadata": {
    "id": "jeQLiBrscgBV"
   },
   "source": [
    "Далее оценим точность классификатора на тестовой выборке."
   ]
  },
  {
   "cell_type": "code",
   "execution_count": null,
   "id": "07bb5933",
   "metadata": {
    "colab": {
     "base_uri": "https://localhost:8080/"
    },
    "id": "d7eF801Voy-0",
    "outputId": "1eddc74e-eac0-47cd-b7b2-d0023c5f396d"
   },
   "outputs": [],
   "source": [
    "ensemble_est(population,inputs_test,outputs_test)"
   ]
  },
  {
   "cell_type": "markdown",
   "id": "1f6c7599",
   "metadata": {
    "id": "nIuyeKmGu0jP"
   },
   "source": [
    "График обучения"
   ]
  },
  {
   "cell_type": "markdown",
   "id": "c1091838",
   "metadata": {},
   "source": []
  },
  {
   "cell_type": "code",
   "execution_count": null,
   "id": "e1142f07",
   "metadata": {
    "colab": {
     "base_uri": "https://localhost:8080/",
     "height": 279
    },
    "id": "V_2L7gzBu0_m",
    "outputId": "ed3225c2-3c81-41dd-ceb5-f4095a7d3e1e"
   },
   "outputs": [],
   "source": [
    "import matplotlib.pyplot as plt\n",
    "\n",
    "plt.plot(epochs_array, model_accuracy_array, c='blue')\n",
    "plt.xlabel('Epoch')\n",
    "plt.ylabel('Accuracy')\n",
    "plt.show()"
   ]
  },
  {
   "cell_type": "markdown",
   "id": "55d25a47",
   "metadata": {
    "id": "R0ueErKKfOOB"
   },
   "source": [
    "Демонстрация вероятностного вывода."
   ]
  },
  {
   "cell_type": "code",
   "execution_count": null,
   "id": "967abce1",
   "metadata": {
    "colab": {
     "base_uri": "https://localhost:8080/"
    },
    "id": "TVRJlTvtfHx3",
    "outputId": "ecefffd2-16cf-4bca-916a-1770659da779"
   },
   "outputs": [],
   "source": [
    "df_index = np.random.randint(0,outputs_test.shape[0])\n",
    "piece_of_data = outputs_test.iloc[df_index,:].to_numpy()\n",
    "d = outputs_test.iloc[df_index]\n",
    "for count in range(len(population)):\n",
    "  population[count].forward_propagation(piece_of_data)\n",
    "F = ensemble_bagging_preds(population)\n",
    "print(d)\n",
    "print(F)"
   ]
  },
  {
   "cell_type": "markdown",
   "id": "ed380f47",
   "metadata": {
    "id": "S7OrShgazki4"
   },
   "source": [
    "Функция для вывода весов связей в отдельный файл."
   ]
  },
  {
   "cell_type": "code",
   "execution_count": null,
   "id": "a2dd4e32",
   "metadata": {
    "id": "yKO55gIAz89M"
   },
   "outputs": [],
   "source": [
    "def save_weights(ensemble):\n",
    "  file = open('NN_ensemble_structure.txt','w')\n",
    "  for nn in range(len(ensemble)):\n",
    "    file.write('\\n########################\\n')\n",
    "    for i in range(len(ensemble[nn].w)):\n",
    "      for j in range(len(ensemble[nn].w[i])):\n",
    "        for k in range(len(ensemble[nn].w[i][j])):\n",
    "          file.write(str(ensemble[nn].w[i][j][k])+' ')\n",
    "        file.write('\\n')\n",
    "  file.close()\n"
   ]
  },
  {
   "cell_type": "code",
   "execution_count": null,
   "id": "9151f284",
   "metadata": {
    "id": "I7XtDK9b2CJn"
   },
   "outputs": [],
   "source": [
    "save_weights(population)"
   ]
  },
  {
   "cell_type": "markdown",
   "id": "224b5d2d",
   "metadata": {
    "id": "r2MkTsZq4Lik"
   },
   "source": [
    "Функция для записи весов смещения."
   ]
  },
  {
   "cell_type": "code",
   "execution_count": null,
   "id": "5263ac30",
   "metadata": {
    "id": "Wp7AEXYC2EJK"
   },
   "outputs": [],
   "source": [
    "def save_bias(ensemble):\n",
    "  file = open('NN_ensemble_bias.txt','w')\n",
    "  for nn in range(len(ensemble)):\n",
    "    file.write('\\n########################\\n')\n",
    "    for i in range(len(ensemble[nn].b)):\n",
    "      for j in range(len(ensemble[nn].b[i])):\n",
    "        file.write(str(ensemble[nn].b[i][j])+' ')\n",
    "      file.write('\\n')\n",
    "  file.close()"
   ]
  },
  {
   "cell_type": "code",
   "execution_count": null,
   "id": "f957ce47",
   "metadata": {
    "id": "9T5UPXFj4m54"
   },
   "outputs": [],
   "source": [
    "save_bias(population)"
   ]
  }
 ],
 "metadata": {
  "kernelspec": {
   "display_name": "Python 3 (ipykernel)",
   "language": "python",
   "name": "python3"
  },
  "language_info": {
   "codemirror_mode": {
    "name": "ipython",
    "version": 3
   },
   "file_extension": ".py",
   "mimetype": "text/x-python",
   "name": "python",
   "nbconvert_exporter": "python",
   "pygments_lexer": "ipython3",
   "version": "3.8.11"
  }
 },
 "nbformat": 4,
 "nbformat_minor": 5
}